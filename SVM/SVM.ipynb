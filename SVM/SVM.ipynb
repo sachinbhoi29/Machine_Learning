{
 "cells": [
  {
   "cell_type": "code",
   "execution_count": 18,
   "metadata": {},
   "outputs": [],
   "source": [
    "# import libraries\n",
    "import pandas as pd\n",
    "import numpy as np\n",
    "import matplotlib.pyplot as plt\n",
    "import seaborn as sns\n",
    "\n",
    "from sklearn import svm\n",
    "from sklearn.datasets.samples_generator import make_blobs"
   ]
  },
  {
   "cell_type": "code",
   "execution_count": 19,
   "metadata": {},
   "outputs": [],
   "source": [
    "X, y = make_blobs(n_samples = 40, centers = 2, random_state = 20)"
   ]
  },
  {
   "cell_type": "code",
   "execution_count": 20,
   "metadata": {},
   "outputs": [],
   "source": [
    "clf = svm.SVC(kernel = 'linear', C=1000)"
   ]
  },
  {
   "cell_type": "code",
   "execution_count": 21,
   "metadata": {},
   "outputs": [
    {
     "data": {
      "text/plain": [
       "SVC(C=1000, cache_size=200, class_weight=None, coef0=0.0,\n",
       "    decision_function_shape='ovr', degree=3, gamma='auto_deprecated',\n",
       "    kernel='linear', max_iter=-1, probability=False, random_state=None,\n",
       "    shrinking=True, tol=0.001, verbose=False)"
      ]
     },
     "execution_count": 21,
     "metadata": {},
     "output_type": "execute_result"
    }
   ],
   "source": [
    "clf.fit(X,y)"
   ]
  },
  {
   "cell_type": "code",
   "execution_count": 23,
   "metadata": {},
   "outputs": [
    {
     "data": {
      "text/plain": [
       "<function matplotlib.pyplot.show(*args, **kw)>"
      ]
     },
     "execution_count": 23,
     "metadata": {},
     "output_type": "execute_result"
    },
    {
     "data": {
      "image/png": "[encoded data removed]",
      "text/plain": [
       "<Figure size 432x288 with 1 Axes>"
      ]
     },
     "metadata": {
      "needs_background": "light"
     },
     "output_type": "display_data"
    }
   ],
   "source": [
    "plt.scatter(X[:,0],X[:,1], c=y, s=30, cmap=plt.cm.Paired)\n",
    "plt.show()"
   ]
  },
  {
   "cell_type": "code",
   "execution_count": 43,
   "metadata": {},
   "outputs": [
    {
     "name": "stdout",
     "output_type": "stream",
     "text": [
      "[0 1]\n"
     ]
    }
   ],
   "source": [
    "newdata = [[3,4],[5,6]]\n",
    "print(clf.predict(newdata))"
   ]
  },
  {
   "cell_type": "code",
   "execution_count": 44,
   "metadata": {},
   "outputs": [
    {
     "ename": "SyntaxError",
     "evalue": "invalid syntax (<ipython-input-44-c2878fc357d5>, line 23)",
     "output_type": "error",
     "traceback": [
      "\u001b[1;36m  File \u001b[1;32m\"<ipython-input-44-c2878fc357d5>\"\u001b[1;36m, line \u001b[1;32m23\u001b[0m\n\u001b[1;33m    ax.scatter(clf.support_vectors_[:,0],\u001b[0m\n\u001b[1;37m     ^\u001b[0m\n\u001b[1;31mSyntaxError\u001b[0m\u001b[1;31m:\u001b[0m invalid syntax\n"
     ]
    }
   ],
   "source": [
    "# when we do plt.show(), it forgets all that in memory of the graph, so we need to reload the data\n",
    "clf = svm.SVC(kernel = 'linear', C=1000)\n",
    "clf.fit(X,y)\n",
    "plt.scatter(X[:,0],X[:,1], c=y, s=30, cmap=plt.cm.Paired)\n",
    "\n",
    "#plot the decision function\n",
    "ax = plt.gca()\n",
    "xlim = ax.get_xlim()\n",
    "ylim = ax.get_ylim()\n",
    "#create grid to evaluate model\n",
    "xx = np.linespace(xlim[0], xlim[1], 30)    # xlim 0 and 1 and then we create 30 points on the x axis\n",
    "yy = np.linespace(ylim[0], ylim[1], 30)    # ylim 0 and 1 and then we create 30 points on the y axis\n",
    "YY, XX = np.meshgrid(yy, xx)                # it creates a nice grid \n",
    "xy = np.vstack([xx.ravel(), yy.ravel()]).T\n",
    "z = clf.decision_function(xy).reshape(XX.shape)\n",
    "\n",
    "# plot decison boundary and margins\n",
    "ax.contour(XX, YY, Z, colors='k', levels =[-1,0,1], \n",
    "    alpha=0.5,\n",
    "    linestyles = ['--','-','--']\n",
    "           \n",
    "# plot support vector\n",
    "ax.scatter(clf.support_vectors_[:,0],\n",
    "    clf.support_vectors_[:,1], s=100,\n",
    "    linewidth=1, facecolors = 'none')\n",
    "plt.show()\n",
    "    \n",
    "    \n"
   ]
  }
 ],
 "metadata": {
  "kernelspec": {
   "display_name": "Python 3",
   "language": "python",
   "name": "python3"
  },
  "language_info": {
   "codemirror_mode": {
    "name": "ipython",
    "version": 3
   },
   "file_extension": ".py",
   "mimetype": "text/x-python",
   "name": "python",
   "nbconvert_exporter": "python",
   "pygments_lexer": "ipython3",
   "version": "3.7.4"
  }
 },
 "nbformat": 4,
 "nbformat_minor": 2
}
