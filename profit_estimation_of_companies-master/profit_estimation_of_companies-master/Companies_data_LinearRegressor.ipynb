{
 "cells": [
  {
   "cell_type": "code",
   "execution_count": 51,
   "metadata": {},
   "outputs": [],
   "source": [
    "#import all the libraries\n",
    "import numpy as np\n",
    "import matplotlib.pyplot as plt\n",
    "import pandas as pd\n",
    "import seaborn as sns\n",
    "import sklearn\n",
    "\n",
    "%matplotlib inline"
   ]
  },
  {
   "cell_type": "code",
   "execution_count": 20,
   "metadata": {},
   "outputs": [
    {
     "data": {
      "text/plain": [
       "array(['New York', 'California', 'Florida', 'New York', 'Florida',\n",
       "       'New York', 'California', 'Florida', 'New York', 'California',\n",
       "       'Florida', 'California', 'Florida', 'California', 'Florida',\n",
       "       'New York', 'California', 'New York', 'Florida', 'New York',\n",
       "       'California', 'New York', 'Florida', 'Florida', 'New York',\n",
       "       'California', 'Florida', 'New York', 'Florida', 'New York',\n",
       "       'Florida', 'New York', 'California', 'Florida', 'California',\n",
       "       'New York', 'Florida', 'California', 'New York', 'California',\n",
       "       'California', 'Florida', 'California', 'New York', 'California',\n",
       "       'New York', 'Florida', 'California', 'New York', 'California',\n",
       "       'New York', 'California', 'Florida', 'New York', 'Florida',\n",
       "       'New York', 'California', 'Florida', 'New York', 'California',\n",
       "       'Florida', 'California', 'Florida', 'California', 'Florida',\n",
       "       'New York', 'California', 'New York', 'Florida', 'New York',\n",
       "       'California', 'New York', 'Florida', 'Florida', 'New York',\n",
       "       'California', 'Florida', 'New York', 'Florida', 'New York',\n",
       "       'Florida', 'New York', 'California', 'Florida', 'California',\n",
       "       'New York', 'Florida', 'California', 'New York', 'California',\n",
       "       'California', 'Florida', 'California', 'New York', 'California',\n",
       "       'New York', 'Florida', 'California', 'New York', 'California',\n",
       "       'New York', 'California', 'Florida', 'New York', 'Florida',\n",
       "       'New York', 'California', 'Florida', 'New York', 'California',\n",
       "       'Florida', 'California', 'Florida', 'California', 'Florida',\n",
       "       'New York', 'California', 'New York', 'Florida', 'New York',\n",
       "       'California', 'New York', 'Florida', 'Florida', 'New York',\n",
       "       'California', 'Florida', 'New York', 'Florida', 'New York',\n",
       "       'Florida', 'New York', 'California', 'Florida', 'California',\n",
       "       'New York', 'Florida', 'California', 'New York', 'California',\n",
       "       'California', 'Florida', 'California', 'New York', 'California',\n",
       "       'New York', 'Florida', 'California', 'New York', 'California',\n",
       "       'New York', 'California', 'Florida', 'New York', 'Florida',\n",
       "       'New York', 'California', 'Florida', 'New York', 'California',\n",
       "       'Florida', 'California', 'Florida', 'California', 'Florida',\n",
       "       'New York', 'California', 'New York', 'Florida', 'New York',\n",
       "       'California', 'New York', 'Florida', 'Florida', 'New York',\n",
       "       'California', 'Florida', 'New York', 'Florida', 'New York',\n",
       "       'Florida', 'New York', 'California', 'Florida', 'California',\n",
       "       'New York', 'Florida', 'California', 'New York', 'California',\n",
       "       'California', 'Florida', 'California', 'New York', 'California',\n",
       "       'New York', 'Florida', 'California', 'New York', 'California',\n",
       "       'California', 'Florida', 'New York', 'Florida', 'New York',\n",
       "       'California', 'Florida', 'New York', 'California', 'Florida',\n",
       "       'California', 'Florida', 'California', 'Florida', 'New York',\n",
       "       'California', 'New York', 'Florida', 'New York', 'California',\n",
       "       'New York', 'Florida', 'Florida', 'New York', 'California',\n",
       "       'Florida', 'New York', 'Florida', 'New York', 'Florida',\n",
       "       'New York', 'California', 'Florida', 'California', 'New York',\n",
       "       'Florida', 'California', 'New York', 'California', 'California',\n",
       "       'Florida', 'California', 'New York', 'California', 'New York',\n",
       "       'Florida', 'California', 'New York', 'California', 'New York',\n",
       "       'California', 'Florida', 'New York', 'Florida', 'New York',\n",
       "       'California', 'Florida', 'New York', 'California', 'Florida',\n",
       "       'California', 'Florida', 'California', 'Florida', 'New York',\n",
       "       'California', 'New York', 'Florida', 'New York', 'California',\n",
       "       'New York', 'Florida', 'Florida', 'New York', 'California',\n",
       "       'Florida', 'New York', 'Florida', 'New York', 'Florida',\n",
       "       'New York', 'California', 'Florida', 'California', 'New York',\n",
       "       'Florida', 'California', 'New York', 'California', 'California',\n",
       "       'Florida', 'California', 'New York', 'California', 'New York',\n",
       "       'Florida', 'California', 'New York', 'California', 'California',\n",
       "       'Florida', 'New York', 'Florida', 'New York', 'California',\n",
       "       'Florida', 'New York', 'California', 'Florida', 'California',\n",
       "       'Florida', 'California', 'Florida', 'New York', 'California',\n",
       "       'New York', 'Florida', 'New York', 'California', 'New York',\n",
       "       'Florida', 'Florida', 'New York', 'California', 'Florida',\n",
       "       'New York', 'Florida', 'New York', 'Florida', 'New York',\n",
       "       'California', 'Florida', 'California', 'New York', 'Florida',\n",
       "       'California', 'New York', 'California', 'California', 'Florida',\n",
       "       'California', 'New York', 'California', 'New York', 'Florida',\n",
       "       'California', 'New York', 'California', 'New York', 'California',\n",
       "       'Florida', 'New York', 'Florida', 'New York', 'California',\n",
       "       'Florida', 'New York', 'California', 'Florida', 'California',\n",
       "       'Florida', 'California', 'Florida', 'New York', 'California',\n",
       "       'New York', 'Florida', 'New York', 'California', 'New York',\n",
       "       'Florida', 'Florida', 'New York', 'California', 'Florida',\n",
       "       'New York', 'Florida', 'New York', 'Florida', 'New York',\n",
       "       'California', 'Florida', 'California', 'New York', 'Florida',\n",
       "       'California', 'New York', 'California', 'California', 'Florida',\n",
       "       'California', 'New York', 'California', 'New York', 'Florida',\n",
       "       'California', 'New York', 'California', 'California', 'Florida',\n",
       "       'New York', 'Florida', 'New York', 'California', 'Florida',\n",
       "       'New York', 'California', 'Florida', 'California', 'Florida',\n",
       "       'California', 'Florida', 'New York', 'California', 'New York',\n",
       "       'Florida', 'New York', 'California', 'New York', 'Florida',\n",
       "       'Florida', 'New York', 'California', 'Florida', 'New York',\n",
       "       'Florida', 'New York', 'Florida', 'New York', 'California',\n",
       "       'Florida', 'California', 'New York', 'Florida', 'California',\n",
       "       'New York', 'California', 'California', 'Florida', 'California',\n",
       "       'New York', 'California', 'New York', 'Florida', 'California',\n",
       "       'New York', 'California', 'New York', 'California', 'Florida',\n",
       "       'New York', 'Florida', 'New York', 'California', 'Florida',\n",
       "       'New York', 'California', 'Florida', 'California', 'Florida',\n",
       "       'California', 'Florida', 'New York', 'California', 'New York',\n",
       "       'Florida', 'New York', 'California', 'New York', 'Florida',\n",
       "       'Florida', 'New York', 'California', 'Florida', 'New York',\n",
       "       'Florida', 'New York', 'Florida', 'New York', 'California',\n",
       "       'Florida', 'California', 'New York', 'Florida', 'California',\n",
       "       'New York', 'California', 'California', 'Florida', 'California',\n",
       "       'New York', 'California', 'New York', 'Florida', 'California',\n",
       "       'New York', 'California', 'California', 'Florida', 'New York',\n",
       "       'Florida', 'New York', 'California', 'Florida', 'New York',\n",
       "       'California', 'Florida', 'California', 'Florida', 'California',\n",
       "       'Florida', 'New York', 'California', 'New York', 'Florida',\n",
       "       'New York', 'California', 'New York', 'Florida', 'Florida',\n",
       "       'New York', 'California', 'Florida', 'New York', 'Florida',\n",
       "       'New York', 'Florida', 'New York', 'California', 'Florida',\n",
       "       'California', 'New York', 'Florida', 'California', 'New York',\n",
       "       'California', 'California', 'Florida', 'California', 'New York',\n",
       "       'California', 'New York', 'Florida', 'California', 'New York',\n",
       "       'California', 'New York', 'California', 'Florida', 'New York',\n",
       "       'Florida', 'New York', 'California', 'Florida', 'New York',\n",
       "       'California', 'Florida', 'California', 'Florida', 'California',\n",
       "       'Florida', 'New York', 'California', 'New York', 'Florida',\n",
       "       'New York', 'California', 'New York', 'Florida', 'Florida',\n",
       "       'New York', 'California', 'Florida', 'New York', 'Florida',\n",
       "       'New York', 'Florida', 'New York', 'California', 'Florida',\n",
       "       'California', 'New York', 'Florida', 'California', 'New York',\n",
       "       'California', 'California', 'Florida', 'California', 'New York',\n",
       "       'California', 'New York', 'Florida', 'California', 'New York',\n",
       "       'California', 'California', 'Florida', 'New York', 'Florida',\n",
       "       'New York', 'California', 'Florida', 'New York', 'California',\n",
       "       'Florida', 'California', 'Florida', 'California', 'Florida',\n",
       "       'New York', 'California', 'New York', 'Florida', 'New York',\n",
       "       'California', 'New York', 'Florida', 'Florida', 'New York',\n",
       "       'California', 'Florida', 'New York', 'Florida', 'New York',\n",
       "       'Florida', 'New York', 'California', 'Florida', 'California',\n",
       "       'New York', 'Florida', 'California', 'New York', 'California',\n",
       "       'California', 'Florida', 'California', 'New York', 'California',\n",
       "       'New York', 'Florida', 'California', 'New York', 'California',\n",
       "       'New York', 'California', 'Florida', 'New York', 'Florida',\n",
       "       'New York', 'California', 'Florida', 'New York', 'California',\n",
       "       'Florida', 'California', 'Florida', 'California', 'Florida',\n",
       "       'New York', 'California', 'New York', 'Florida', 'New York',\n",
       "       'California', 'New York', 'Florida', 'Florida', 'New York',\n",
       "       'California', 'Florida', 'New York', 'Florida', 'New York',\n",
       "       'Florida', 'New York', 'California', 'Florida', 'California',\n",
       "       'New York', 'Florida', 'California', 'New York', 'California',\n",
       "       'California', 'Florida', 'California', 'New York', 'California',\n",
       "       'New York', 'Florida', 'California', 'New York', 'California',\n",
       "       'California', 'Florida', 'New York', 'Florida', 'New York',\n",
       "       'California', 'Florida', 'New York', 'California', 'Florida',\n",
       "       'California', 'Florida', 'California', 'Florida', 'New York',\n",
       "       'California', 'New York', 'Florida', 'New York', 'California',\n",
       "       'New York', 'Florida', 'Florida', 'New York', 'California',\n",
       "       'Florida', 'New York', 'Florida', 'New York', 'Florida',\n",
       "       'New York', 'California', 'Florida', 'California', 'New York',\n",
       "       'Florida', 'California', 'New York', 'California', 'California',\n",
       "       'Florida', 'California', 'New York', 'California', 'New York',\n",
       "       'Florida', 'California', 'New York', 'California', 'New York',\n",
       "       'California', 'Florida', 'New York', 'Florida', 'New York',\n",
       "       'California', 'Florida', 'New York', 'California', 'Florida',\n",
       "       'California', 'Florida', 'California', 'Florida', 'New York',\n",
       "       'California', 'New York', 'Florida', 'New York', 'California',\n",
       "       'New York', 'Florida', 'Florida', 'New York', 'California',\n",
       "       'Florida', 'New York', 'Florida', 'New York', 'Florida',\n",
       "       'New York', 'California', 'Florida', 'California', 'New York',\n",
       "       'Florida', 'California', 'New York', 'California', 'California',\n",
       "       'Florida', 'California', 'New York', 'California', 'New York',\n",
       "       'Florida', 'California', 'New York', 'California', 'California',\n",
       "       'Florida', 'New York', 'Florida', 'New York', 'California',\n",
       "       'Florida', 'New York', 'California', 'Florida', 'California',\n",
       "       'Florida', 'California', 'Florida', 'New York', 'California',\n",
       "       'New York', 'Florida', 'New York', 'California', 'New York',\n",
       "       'Florida', 'Florida', 'New York', 'California', 'Florida',\n",
       "       'New York', 'Florida', 'New York', 'Florida', 'New York',\n",
       "       'California', 'Florida', 'California', 'New York', 'Florida',\n",
       "       'California', 'New York', 'California', 'California', 'Florida',\n",
       "       'California', 'New York', 'California', 'New York', 'Florida',\n",
       "       'California', 'New York', 'California', 'New York', 'California',\n",
       "       'Florida', 'New York', 'Florida', 'New York', 'California',\n",
       "       'Florida', 'New York', 'California', 'Florida', 'California',\n",
       "       'Florida', 'California', 'Florida', 'New York', 'California',\n",
       "       'New York', 'Florida', 'New York', 'California', 'New York',\n",
       "       'Florida', 'Florida', 'New York', 'California', 'Florida',\n",
       "       'New York', 'Florida', 'New York', 'Florida', 'New York',\n",
       "       'California', 'Florida', 'California', 'New York', 'Florida',\n",
       "       'California', 'New York', 'California', 'California', 'Florida',\n",
       "       'California', 'New York', 'California', 'New York', 'Florida',\n",
       "       'California', 'New York', 'California', 'California', 'Florida',\n",
       "       'New York', 'Florida', 'New York', 'California', 'Florida',\n",
       "       'New York', 'California', 'Florida', 'California', 'Florida',\n",
       "       'California', 'Florida', 'New York', 'California', 'New York',\n",
       "       'Florida', 'New York', 'California', 'New York', 'Florida',\n",
       "       'Florida', 'New York', 'California', 'Florida', 'New York',\n",
       "       'Florida', 'New York', 'Florida', 'New York', 'California',\n",
       "       'Florida', 'California', 'New York', 'Florida', 'California',\n",
       "       'New York', 'California', 'California', 'Florida', 'California',\n",
       "       'New York', 'California', 'New York', 'Florida', 'California',\n",
       "       'New York', 'California', 'New York', 'California', 'Florida',\n",
       "       'New York', 'Florida', 'New York', 'California', 'Florida',\n",
       "       'New York', 'California', 'Florida', 'California', 'Florida',\n",
       "       'California', 'Florida', 'New York', 'California', 'New York',\n",
       "       'Florida', 'New York', 'California', 'New York', 'Florida',\n",
       "       'Florida', 'New York', 'California', 'Florida', 'New York',\n",
       "       'Florida', 'New York', 'Florida', 'New York', 'California',\n",
       "       'Florida', 'California', 'New York', 'Florida', 'California',\n",
       "       'New York', 'California', 'California', 'Florida', 'California',\n",
       "       'New York', 'California', 'New York', 'Florida', 'Florida',\n",
       "       'California', 'New York', 'Florida', 'California', 'New York',\n",
       "       'California', 'California', 'California', 'California', 'New York'],\n",
       "      dtype=object)"
      ]
     },
     "execution_count": 20,
     "metadata": {},
     "output_type": "execute_result"
    }
   ],
   "source": [
    "companies = pd.read_csv(\"1000_Companies.csv\")\n",
    "X = companies.iloc[:,:-1].values\n",
    "y = companies.iloc[:, 4]. values      # values return a continous array of values\n",
    "\n",
    "companies.head()"
   ]
  },
  {
   "cell_type": "code",
   "execution_count": 12,
   "metadata": {},
   "outputs": [
    {
     "data": {
      "text/plain": [
       "<matplotlib.axes._subplots.AxesSubplot at 0xbf74cf8>"
      ]
     },
     "execution_count": 12,
     "metadata": {},
     "output_type": "execute_result"
    },
    {
     "data": {
      "image/png": "[encoded data removed]",
      "text/plain": [
       "<Figure size 432x288 with 2 Axes>"
      ]
     },
     "metadata": {
      "needs_background": "light"
     },
     "output_type": "display_data"
    }
   ],
   "source": [
    "sns.heatmap(companies.corr())"
   ]
  },
  {
   "cell_type": "code",
   "execution_count": 28,
   "metadata": {},
   "outputs": [
    {
     "name": "stderr",
     "output_type": "stream",
     "text": [
      "C:\\ProgramData\\Anaconda2\\lib\\site-packages\\sklearn\\preprocessing\\_encoders.py:392: DeprecationWarning: The 'categorical_features' keyword is deprecated in version 0.20 and will be removed in 0.22. You can use the ColumnTransformer instead.\n",
      "  \"use the ColumnTransformer instead.\", DeprecationWarning)\n"
     ]
    },
    {
     "data": {
      "text/plain": [
       "array([[1.0000000e+00, 0.0000000e+00, 0.0000000e+00, ..., 1.0000000e+00,\n",
       "        1.3689780e+05, 4.7178410e+05],\n",
       "       [1.0000000e+00, 0.0000000e+00, 0.0000000e+00, ..., 0.0000000e+00,\n",
       "        1.5137759e+05, 4.4389853e+05],\n",
       "       [1.0000000e+00, 0.0000000e+00, 0.0000000e+00, ..., 0.0000000e+00,\n",
       "        1.0114555e+05, 4.0793454e+05],\n",
       "       ...,\n",
       "       [1.0000000e+00, 0.0000000e+00, 0.0000000e+00, ..., 0.0000000e+00,\n",
       "        2.4192631e+05, 2.2714282e+05],\n",
       "       [1.0000000e+00, 0.0000000e+00, 0.0000000e+00, ..., 0.0000000e+00,\n",
       "        3.2165214e+05, 2.8169232e+05],\n",
       "       [1.0000000e+00, 0.0000000e+00, 0.0000000e+00, ..., 1.0000000e+00,\n",
       "        2.7093986e+05, 2.9544217e+05]])"
      ]
     },
     "execution_count": 28,
     "metadata": {},
     "output_type": "execute_result"
    }
   ],
   "source": [
    "from sklearn.preprocessing import LabelEncoder, OneHotEncoder\n",
    "labelencoder = LabelEncoder()\n",
    "X[:,3] = labelencoder.fit_transform(X[:,3])  # this changes the state names to numbers which the computer can understand\n",
    "\n",
    "onehotencoder = OneHotEncoder(categorical_features = [3])\n",
    "X = onehotencoder.fit_transform(X).toarray()\n",
    "X"
   ]
  },
  {
   "cell_type": "code",
   "execution_count": 29,
   "metadata": {},
   "outputs": [],
   "source": [
    "X = X[:, 1:]"
   ]
  },
  {
   "cell_type": "code",
   "execution_count": 30,
   "metadata": {},
   "outputs": [
    {
     "data": {
      "text/plain": [
       "array([[0.0000000e+00, 0.0000000e+00, 0.0000000e+00, ..., 1.0000000e+00,\n",
       "        1.3689780e+05, 4.7178410e+05],\n",
       "       [0.0000000e+00, 0.0000000e+00, 0.0000000e+00, ..., 0.0000000e+00,\n",
       "        1.5137759e+05, 4.4389853e+05],\n",
       "       [0.0000000e+00, 0.0000000e+00, 0.0000000e+00, ..., 0.0000000e+00,\n",
       "        1.0114555e+05, 4.0793454e+05],\n",
       "       ...,\n",
       "       [0.0000000e+00, 0.0000000e+00, 0.0000000e+00, ..., 0.0000000e+00,\n",
       "        2.4192631e+05, 2.2714282e+05],\n",
       "       [0.0000000e+00, 0.0000000e+00, 0.0000000e+00, ..., 0.0000000e+00,\n",
       "        3.2165214e+05, 2.8169232e+05],\n",
       "       [0.0000000e+00, 0.0000000e+00, 0.0000000e+00, ..., 1.0000000e+00,\n",
       "        2.7093986e+05, 2.9544217e+05]])"
      ]
     },
     "execution_count": 30,
     "metadata": {},
     "output_type": "execute_result"
    }
   ],
   "source": [
    "X"
   ]
  },
  {
   "cell_type": "code",
   "execution_count": 31,
   "metadata": {},
   "outputs": [],
   "source": [
    "# Splitting the training and testing data\n",
    "from sklearn.model_selection import train_test_split\n",
    "X_train, X_test, y_train, y_test = train_test_split(X, y, test_size = 0.2, random_state = 0)"
   ]
  },
  {
   "cell_type": "code",
   "execution_count": 38,
   "metadata": {},
   "outputs": [
    {
     "data": {
      "text/plain": [
       "LinearRegression(copy_X=True, fit_intercept=True, n_jobs=None,\n",
       "         normalize=False)"
      ]
     },
     "execution_count": 38,
     "metadata": {},
     "output_type": "execute_result"
    }
   ],
   "source": [
    "from sklearn.linear_model import LinearRegression\n",
    "lin_reg = LinearRegression()\n",
    "lin_reg.fit(X_train,y_train)"
   ]
  },
  {
   "cell_type": "code",
   "execution_count": 41,
   "metadata": {},
   "outputs": [
    {
     "data": {
      "text/plain": [
       "array([ 58317.57038783,  56597.94296629,  64754.53892556, 190256.31562127,\n",
       "        74903.65549792, 109156.59680388, 180341.55395425,  60439.77872512,\n",
       "       177290.19990456,  35818.84970763,  29512.46040746, 158583.35641062,\n",
       "       105137.10197585,  19912.19998882, 168949.45161926,  64694.1126512 ,\n",
       "       117825.26752853, 152630.84876242, 212552.19229206, 199325.02160112,\n",
       "       141357.71891831,  53120.81133049, 196955.1784161 ,  51197.72894476,\n",
       "        77506.18700003,  72748.80376247,  39630.29660714,  41445.05462146,\n",
       "        31966.90649021, 247732.18632844, 121016.69655442,  85979.86949781,\n",
       "        97700.35101459, 142683.56767708,  25753.95457569,  82364.21513002,\n",
       "       204301.0102431 , 184911.29388118, 188949.00914099, 117098.02408772,\n",
       "        91701.67629603, 153737.94676687,  80934.61933083,  31999.74042457,\n",
       "       115638.12667885,  19022.62565357, 168483.38818186,  67749.37419682,\n",
       "       170137.00080972, 134081.10243543, 201858.65936282, 188904.63881104,\n",
       "        63305.46350547,  68508.89304567, 181499.36274067,  75215.52203046,\n",
       "       148915.9992499 , 184884.04823833,  76105.98786758, 102517.25554587,\n",
       "       147351.12748741,  35953.93494417, 123963.1789898 , 145230.89291076,\n",
       "        69042.24396685, 111946.71784688, 129564.86075121, 161574.38643919,\n",
       "        43946.03552533, 188496.64663916, 102247.60880529, 158295.12152852,\n",
       "        83813.65854012, 166662.92489791,  51402.26615253,  67924.50127418,\n",
       "       120556.75855186,  87475.65699862, 120403.79939009, 126184.95046184,\n",
       "       184540.09681904, 121743.57200521, 103857.02791803, 141365.07146076,\n",
       "       146307.68902501, 108653.37050972,  32946.30399451,  80877.43958234,\n",
       "       121807.42227398, 156963.10139697, 168865.21671164,  18897.08963348,\n",
       "        87887.97793994, 110760.61864737,  41034.8979471 , 105175.15634967,\n",
       "       154530.49022432, 161585.20863369, 181339.81935955,  94839.90022714,\n",
       "       120997.21685851, 144034.1622436 , 168374.97685634, 122509.0603411 ,\n",
       "        79544.16018666, 100856.25790114,  89940.92503271, 194684.5169123 ,\n",
       "       174534.72319017, 108222.65191068, 153487.95694788, 156706.44109523,\n",
       "       168973.43731038, 190135.99985759, 159721.47055898,  11039.18278623,\n",
       "       168223.29066511,  77185.85348725,  49388.27837655, 144870.51780025,\n",
       "       150648.61286749, 172597.94014938, 182665.71401873, 120603.29340683,\n",
       "       169068.8621595 ,  84074.10256345, 183693.62006372,  21706.49960438,\n",
       "       145647.36552635, 144553.2539983 , 189794.0224045 , 166819.84504454,\n",
       "        75877.46500618,  77708.73674066, 123661.24317217, 178955.71700807,\n",
       "       121525.33410479, 215429.43435744,  95449.55066023,  72234.0409827 ,\n",
       "       170373.63640522,  73451.15632626,  58629.42317646,  83527.76516585,\n",
       "        46951.32499341,  56617.59992541,  60478.02382579, 168192.98877483,\n",
       "        81827.80816688, 175691.46395697,  85571.16307225,  51156.90809997,\n",
       "       163050.34003554,  21874.24171374, 181850.81188123, 154996.55366177,\n",
       "       177322.85676612,  97549.03260793, 198726.56090409,  61646.80761146,\n",
       "        60180.04899301, 116331.45378847,  51586.41847861,  60228.9255613 ,\n",
       "        46139.66960971, 201111.93622609, 191020.3539289 , 170115.16593709,\n",
       "       147984.02807989, 164696.55446349,  43548.86530491,  82980.35898797,\n",
       "       162520.23556535, 181071.62260972,  61123.91085714, 115071.05011578,\n",
       "        69699.51170403, 158665.41336729, 117019.91465256, 109268.96911429,\n",
       "       188810.48668946, 506341.8293771 , 129547.36831696, 159696.75690769,\n",
       "        77291.19534473,  56935.95943445,  57099.37280048,  32140.05956408,\n",
       "       121887.68273322,  82805.9329062 , 179086.85472319, 103370.93977441,\n",
       "        54470.500879  , 115813.54212126,  94580.17049495, 154299.61235417,\n",
       "       181396.28489192, 130479.14876017, 148030.5628974 , 107283.29600435])"
      ]
     },
     "execution_count": 41,
     "metadata": {},
     "output_type": "execute_result"
    }
   ],
   "source": [
    "y_pred = lin_reg.predict(X_test)\n",
    "y_pred"
   ]
  },
  {
   "cell_type": "code",
   "execution_count": 45,
   "metadata": {},
   "outputs": [
    {
     "name": "stdout",
     "output_type": "stream",
     "text": [
      "[1.73209406e+04 1.72699915e+05 2.63721438e-06 ... 8.33082679e+03\n",
      " 2.42982041e+00 3.74894670e-01]\n"
     ]
    }
   ],
   "source": [
    "print(lin_reg.coef_)"
   ]
  },
  {
   "cell_type": "code",
   "execution_count": 46,
   "metadata": {},
   "outputs": [
    {
     "name": "stdout",
     "output_type": "stream",
     "text": [
      "-271083.89401426126\n"
     ]
    }
   ],
   "source": [
    "print(lin_reg.intercept_)"
   ]
  },
  {
   "cell_type": "code",
   "execution_count": 49,
   "metadata": {},
   "outputs": [
    {
     "data": {
      "text/plain": [
       "0.799950011860727"
      ]
     },
     "execution_count": 49,
     "metadata": {},
     "output_type": "execute_result"
    }
   ],
   "source": [
    "from sklearn.metrics import r2_score\n",
    "r2_score(y_test, y_pred)"
   ]
  }
 ],
 "metadata": {
  "kernelspec": {
   "display_name": "Python 2",
   "language": "python",
   "name": "python2"
  },
  "language_info": {
   "codemirror_mode": {
    "name": "ipython",
    "version": 2
   },
   "file_extension": ".py",
   "mimetype": "text/x-python",
   "name": "python",
   "nbconvert_exporter": "python",
   "pygments_lexer": "ipython2",
   "version": "2.7.16"
  }
 },
 "nbformat": 4,
 "nbformat_minor": 2
}
